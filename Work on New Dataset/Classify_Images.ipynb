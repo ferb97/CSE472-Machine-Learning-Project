{
 "cells": [
  {
   "cell_type": "code",
   "execution_count": 1,
   "metadata": {},
   "outputs": [
    {
     "name": "stdout",
     "output_type": "stream",
     "text": [
      "Number of images in each class directory:\n",
      "MEL: 4522\n",
      "NV: 12875\n",
      "BCC: 3323\n",
      "AK: 867\n",
      "BKL: 2624\n",
      "DF: 239\n",
      "VASC: 253\n",
      "SCC: 628\n"
     ]
    }
   ],
   "source": [
    "import os\n",
    "import pandas as pd\n",
    "import shutil\n",
    "\n",
    "# Paths\n",
    "csv_file = \"Dataset/ISIC_2019_Training_GroundTruth.csv\"\n",
    "image_folder = \"Hair_Removed_Images\"\n",
    "output_base_dir = \"Classified_Images\"\n",
    "\n",
    "# Load CSV\n",
    "data = pd.read_csv(csv_file)\n",
    "\n",
    "# Exclude \"UNK\" class\n",
    "class_columns = [col for col in data.columns[1:] if col != \"UNK\"]\n",
    "\n",
    "# Create base output directory\n",
    "os.makedirs(output_base_dir, exist_ok=True)\n",
    "\n",
    "# Dictionary to store counts\n",
    "class_image_counts = {}\n",
    "\n",
    "# Process each class\n",
    "for class_name in class_columns:\n",
    "    # Get image names for the current class\n",
    "    class_images = data.loc[data[class_name] == 1, 'image'].values\n",
    "    \n",
    "    # Create class-specific directory\n",
    "    class_output_dir = os.path.join(output_base_dir, class_name)\n",
    "    os.makedirs(class_output_dir, exist_ok=True)\n",
    "    \n",
    "    # Move images to their respective class directories\n",
    "    for img_name in class_images:\n",
    "        src_path = os.path.join(image_folder, f\"{img_name}.jpg\")\n",
    "        dest_path = os.path.join(class_output_dir, f\"{img_name}.jpg\")\n",
    "        if os.path.exists(src_path):\n",
    "            shutil.copy(src_path, dest_path)\n",
    "    \n",
    "    # Count the number of images in the class directory\n",
    "    class_image_counts[class_name] = len(os.listdir(class_output_dir))\n",
    "\n",
    "# Output the number of images in each directory\n",
    "print(\"Number of images in each class directory:\")\n",
    "for class_name, count in class_image_counts.items():\n",
    "    print(f\"{class_name}: {count}\")\n"
   ]
  }
 ],
 "metadata": {
  "kernelspec": {
   "display_name": "Python 3",
   "language": "python",
   "name": "python3"
  },
  "language_info": {
   "codemirror_mode": {
    "name": "ipython",
    "version": 3
   },
   "file_extension": ".py",
   "mimetype": "text/x-python",
   "name": "python",
   "nbconvert_exporter": "python",
   "pygments_lexer": "ipython3",
   "version": "3.11.5"
  }
 },
 "nbformat": 4,
 "nbformat_minor": 2
}
