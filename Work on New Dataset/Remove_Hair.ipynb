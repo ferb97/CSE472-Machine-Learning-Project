{
 "cells": [
  {
   "cell_type": "code",
   "execution_count": 1,
   "metadata": {},
   "outputs": [
    {
     "name": "stderr",
     "output_type": "stream",
     "text": [
      "100%|██████████| 25331/25331 [21:37<00:00, 19.52it/s]  \n"
     ]
    }
   ],
   "source": [
    "import cv2\n",
    "import os\n",
    "from tqdm import tqdm\n",
    "\n",
    "def apply_dullrazor(image_path, save_path):\n",
    "    \"\"\"Apply the DullRazor algorithm to remove hair from an image and save it.\"\"\"\n",
    "    img = cv2.imread(image_path)\n",
    "    \n",
    "    # Convert to grayscale\n",
    "    grayScale = cv2.cvtColor(img, cv2.COLOR_RGB2GRAY)\n",
    "    \n",
    "    # Black hat filter\n",
    "    kernel = cv2.getStructuringElement(cv2.MORPH_RECT, (9, 9))\n",
    "    blackhat = cv2.morphologyEx(grayScale, cv2.MORPH_BLACKHAT, kernel)\n",
    "    \n",
    "    # Gaussian filter\n",
    "    bhg = cv2.GaussianBlur(blackhat, (3, 3), cv2.BORDER_DEFAULT)\n",
    "    \n",
    "    # Binary thresholding to create the mask\n",
    "    _, mask = cv2.threshold(bhg, 10, 255, cv2.THRESH_BINARY)\n",
    "    \n",
    "    # Inpaint to remove hair\n",
    "    dst = cv2.inpaint(img, mask, 6, cv2.INPAINT_TELEA)\n",
    "    \n",
    "    # Save the processed image\n",
    "    cv2.imwrite(save_path, dst)\n",
    "\n",
    "def process_images(input_folder, output_folder):\n",
    "    \"\"\"Process all images in the input folder and save them to the output folder.\"\"\"\n",
    "    os.makedirs(output_folder, exist_ok=True)\n",
    "    \n",
    "    for image_name in tqdm(os.listdir(input_folder)):\n",
    "        input_path = os.path.join(input_folder, image_name)\n",
    "        output_path = os.path.join(output_folder, image_name)\n",
    "        \n",
    "        if os.path.isfile(input_path):\n",
    "            apply_dullrazor(input_path, output_path)\n",
    "\n",
    "# Define input and output folders\n",
    "input_folder = \"Modified_Images\"\n",
    "output_folder = \"Hair_Removed_Images\"\n",
    "\n",
    "# Process images\n",
    "process_images(input_folder, output_folder)"
   ]
  }
 ],
 "metadata": {
  "kernelspec": {
   "display_name": "Python 3",
   "language": "python",
   "name": "python3"
  },
  "language_info": {
   "codemirror_mode": {
    "name": "ipython",
    "version": 3
   },
   "file_extension": ".py",
   "mimetype": "text/x-python",
   "name": "python",
   "nbconvert_exporter": "python",
   "pygments_lexer": "ipython3",
   "version": "3.11.5"
  }
 },
 "nbformat": 4,
 "nbformat_minor": 2
}
