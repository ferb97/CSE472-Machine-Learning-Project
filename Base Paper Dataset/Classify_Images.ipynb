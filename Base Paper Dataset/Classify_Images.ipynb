{
 "cells": [
  {
   "cell_type": "code",
   "execution_count": 1,
   "metadata": {},
   "outputs": [
    {
     "name": "stderr",
     "output_type": "stream",
     "text": [
      "100%|██████████| 5000/5000 [01:39<00:00, 50.43it/s]\n",
      "100%|██████████| 5015/5015 [01:51<00:00, 44.87it/s]"
     ]
    },
    {
     "name": "stdout",
     "output_type": "stream",
     "text": [
      "\n",
      "Image counts by class:\n",
      "bkl: 1099 images\n",
      "nv: 6705 images\n",
      "df: 115 images\n",
      "mel: 1113 images\n",
      "vasc: 142 images\n",
      "bcc: 514 images\n",
      "akiec: 327 images\n",
      "\n",
      "Total images not found in metadata: 0\n"
     ]
    },
    {
     "name": "stderr",
     "output_type": "stream",
     "text": [
      "\n"
     ]
    }
   ],
   "source": [
    "import os\n",
    "import shutil\n",
    "import pandas as pd\n",
    "from tqdm import tqdm\n",
    "\n",
    "# Load metadata\n",
    "metadata_path = \"Dataset/HAM10000_metadata.csv\"\n",
    "metadata = pd.read_csv(metadata_path)\n",
    "\n",
    "# Get unique values in the 'dx' column\n",
    "unique_diagnoses = metadata['dx'].unique()\n",
    "\n",
    "# Create directories for each unique diagnosis in the \"Classified Images\" folder\n",
    "output_base_dir = \"Classified_Images\"\n",
    "os.makedirs(output_base_dir, exist_ok=True)\n",
    "for dx in unique_diagnoses:\n",
    "    os.makedirs(os.path.join(output_base_dir, dx), exist_ok=True)\n",
    "\n",
    "# Function to copy images based on dx classification\n",
    "def copy_images_to_classes(input_folders, metadata, output_base_dir):\n",
    "    not_found_images = []\n",
    "    image_count = {dx: 0 for dx in unique_diagnoses}\n",
    "\n",
    "    # Process images in the input folders\n",
    "    for input_folder in input_folders:\n",
    "        for image_name in tqdm(os.listdir(input_folder)):\n",
    "            image_id = os.path.splitext(image_name)[0]  # Get the image_id without extension\n",
    "            \n",
    "            # Find the corresponding dx value in the metadata\n",
    "            match = metadata[metadata['image_id'] == image_id]\n",
    "            if not match.empty:\n",
    "                dx_class = match['dx'].values[0]\n",
    "                dest_folder = os.path.join(output_base_dir, dx_class)\n",
    "                src_path = os.path.join(input_folder, image_name)\n",
    "                dest_path = os.path.join(dest_folder, image_name)\n",
    "                \n",
    "                # Copy the image to the corresponding folder\n",
    "                shutil.copy(src_path, dest_path)\n",
    "                image_count[dx_class] += 1\n",
    "            else:\n",
    "                not_found_images.append(image_name)\n",
    "\n",
    "    return image_count, not_found_images\n",
    "\n",
    "# Define input folders\n",
    "input_folders = [\"HAM_10000_Hair_Removed_1\", \"HAM_10000_Hair_Removed_2\"]\n",
    "\n",
    "# Copy images and get the summary\n",
    "image_count, not_found_images = copy_images_to_classes(input_folders, metadata, output_base_dir)\n",
    "\n",
    "# Print summary\n",
    "print(\"\\nImage counts by class:\")\n",
    "for dx, count in image_count.items():\n",
    "    print(f\"{dx}: {count} images\")\n",
    "\n",
    "print(f\"\\nTotal images not found in metadata: {len(not_found_images)}\")\n",
    "if not_found_images:\n",
    "    print(\"Images not found:\", not_found_images)\n"
   ]
  }
 ],
 "metadata": {
  "kernelspec": {
   "display_name": "Python 3",
   "language": "python",
   "name": "python3"
  },
  "language_info": {
   "codemirror_mode": {
    "name": "ipython",
    "version": 3
   },
   "file_extension": ".py",
   "mimetype": "text/x-python",
   "name": "python",
   "nbconvert_exporter": "python",
   "pygments_lexer": "ipython3",
   "version": "3.11.5"
  }
 },
 "nbformat": 4,
 "nbformat_minor": 2
}
