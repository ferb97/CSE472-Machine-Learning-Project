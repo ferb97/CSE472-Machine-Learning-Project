{
 "cells": [
  {
   "cell_type": "code",
   "execution_count": 4,
   "metadata": {},
   "outputs": [
    {
     "name": "stderr",
     "output_type": "stream",
     "text": [
      "Augmenting df: 100%|██████████| 115/115 [00:08<00:00, 14.06it/s]\n",
      "Augmenting vasc: 100%|██████████| 142/142 [00:18<00:00,  7.60it/s]\n",
      "Augmenting bcc: 100%|██████████| 514/514 [00:21<00:00, 24.22it/s]\n",
      "Augmenting akiec: 100%|██████████| 327/327 [00:25<00:00, 12.60it/s]"
     ]
    },
    {
     "name": "stdout",
     "output_type": "stream",
     "text": [
      "\n",
      "New image counts by class:\n",
      "bkl: 1099 images\n",
      "nv: 1005 images\n",
      "df: 920 images\n",
      "mel: 1113 images\n",
      "vasc: 1136 images\n",
      "bcc: 1028 images\n",
      "akiec: 981 images\n"
     ]
    },
    {
     "name": "stderr",
     "output_type": "stream",
     "text": [
      "\n"
     ]
    }
   ],
   "source": [
    "import os\n",
    "import random\n",
    "import shutil\n",
    "import cv2\n",
    "import numpy as np\n",
    "from tqdm import tqdm\n",
    "\n",
    "# Set random seed for reproducibility\n",
    "SEED = 42\n",
    "random.seed(SEED)\n",
    "np.random.seed(SEED)\n",
    "\n",
    "# Amplification factors\n",
    "amplification_factors = {\n",
    "    'bkl': 1,\n",
    "    'nv': 0.15,\n",
    "    'df': 8,\n",
    "    'mel': 1,\n",
    "    'vasc': 8,\n",
    "    'bcc': 2,\n",
    "    'akiec': 3\n",
    "}\n",
    "\n",
    "# Paths\n",
    "input_base_dir = \"Classified_Images\"\n",
    "output_base_dir = \"Amplified_Images\"\n",
    "os.makedirs(output_base_dir, exist_ok=True)\n",
    "\n",
    "def random_crop(image, crop_size=(224, 224)):\n",
    "    \"\"\"Randomly crops an image while keeping the center visible.\"\"\"\n",
    "    h, w = image.shape[:2]\n",
    "    crop_h, crop_w = crop_size\n",
    "    if h <= crop_h or w <= crop_w:\n",
    "        return cv2.resize(image, crop_size)\n",
    "    \n",
    "    x = random.randint(0, w - crop_w)\n",
    "    y = random.randint(0, h - crop_h)\n",
    "    return image[y:y + crop_h, x:x + crop_w]\n",
    "\n",
    "def random_flip(image):\n",
    "    \"\"\"Randomly flips the image horizontally.\"\"\"\n",
    "    return cv2.flip(image, flipCode=1) if random.random() > 0.5 else image\n",
    "\n",
    "def random_translate(image, max_shift=20):\n",
    "    \"\"\"Randomly translates the image within the max shift range.\"\"\"\n",
    "    h, w = image.shape[:2]\n",
    "    tx = random.randint(-max_shift, max_shift)\n",
    "    ty = random.randint(-max_shift, max_shift)\n",
    "    translation_matrix = np.float32([[1, 0, tx], [0, 1, ty]])\n",
    "    return cv2.warpAffine(image, translation_matrix, (w, h), borderMode=cv2.BORDER_REFLECT)\n",
    "\n",
    "def augment_image(image_path, output_folder, num_augmentations):\n",
    "    \"\"\"Performs random crop, flip, and translation while keeping colors intact.\"\"\"\n",
    "    img = cv2.imread(image_path)\n",
    "    img = cv2.cvtColor(img, cv2.COLOR_BGR2RGB)\n",
    "    \n",
    "    for i in range(num_augmentations):\n",
    "        augmented_img = random_crop(img)\n",
    "        augmented_img = random_flip(augmented_img)\n",
    "        augmented_img = random_translate(augmented_img)\n",
    "        \n",
    "        save_path = os.path.join(output_folder, f\"{os.path.splitext(os.path.basename(image_path))[0]}_aug_{i}.jpg\")\n",
    "        cv2.imwrite(save_path, cv2.cvtColor(augmented_img, cv2.COLOR_RGB2BGR))\n",
    "\n",
    "def amplify_images():\n",
    "    image_counts = {}\n",
    "    for dx_class, factor in amplification_factors.items():\n",
    "        input_folder = os.path.join(input_base_dir, dx_class)\n",
    "        output_folder = os.path.join(output_base_dir, dx_class)\n",
    "        os.makedirs(output_folder, exist_ok=True)\n",
    "        image_files = os.listdir(input_folder)\n",
    "        \n",
    "        if factor < 1:\n",
    "            selected_images = random.sample(image_files, int(len(image_files) * factor))\n",
    "            for image in selected_images:\n",
    "                shutil.copy(os.path.join(input_folder, image), os.path.join(output_folder, image))\n",
    "        elif factor == 1:\n",
    "            for image in image_files:\n",
    "                shutil.copy(os.path.join(input_folder, image), os.path.join(output_folder, image))\n",
    "        else:\n",
    "            for image in tqdm(image_files, desc=f\"Augmenting {dx_class}\"):\n",
    "                augment_image(os.path.join(input_folder, image), output_folder, factor)\n",
    "        \n",
    "        image_counts[dx_class] = len(os.listdir(output_folder))\n",
    "    return image_counts\n",
    "\n",
    "new_image_counts = amplify_images()\n",
    "\n",
    "print(\"\\nNew image counts by class:\")\n",
    "for dx, count in new_image_counts.items():\n",
    "    print(f\"{dx}: {count} images\")\n"
   ]
  }
 ],
 "metadata": {
  "kernelspec": {
   "display_name": "Python 3",
   "language": "python",
   "name": "python3"
  },
  "language_info": {
   "codemirror_mode": {
    "name": "ipython",
    "version": 3
   },
   "file_extension": ".py",
   "mimetype": "text/x-python",
   "name": "python",
   "nbconvert_exporter": "python",
   "pygments_lexer": "ipython3",
   "version": "3.11.5"
  }
 },
 "nbformat": 4,
 "nbformat_minor": 2
}
